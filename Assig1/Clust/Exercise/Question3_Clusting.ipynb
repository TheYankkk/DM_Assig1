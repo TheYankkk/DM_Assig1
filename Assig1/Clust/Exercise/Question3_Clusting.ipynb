{
 "cells": [
  {
   "cell_type": "markdown",
   "id": "63b3a92f",
   "metadata": {},
   "source": [
    "1."
   ]
  },
  {
   "cell_type": "code",
   "execution_count": 6,
   "id": "adcdbca2",
   "metadata": {},
   "outputs": [
    {
     "name": "stdout",
     "output_type": "stream",
     "text": [
      "[7 1 4 3 4 0 4 6 0 3 0 0 7 0 3 1 5 0 0 0 1 2 1 4 4 4 0 0 1 1]\n",
      "The SSE is:  1658.413616810183\n"
     ]
    }
   ],
   "source": [
    "from sklearn.cluster import KMeans\n",
    "import numpy as np\n",
    "import matplotlib.pyplot as plt\n",
    "import pandas as pd\n",
    "from sklearn import preprocessing\n",
    "#question 1\n",
    "data=pd.read_csv(r\"clustering_data.csv\",delimiter=\",\",header=0,index_col=0)\n",
    "#scaler=preprocessing.StandardScaler().fit(data)\n",
    "d=data.values.tolist()\n",
    "X=np.array(d)\n",
    "kmeans = KMeans(init=\"random\").fit(X)\n",
    "print(kmeans.labels_)\n",
    "SSE=kmeans.inertia_\n",
    "print(\"The SSE is: \",SSE)\n",
    "\n"
   ]
  },
  {
   "cell_type": "markdown",
   "id": "4f30f141",
   "metadata": {},
   "source": [
    "2."
   ]
  },
  {
   "cell_type": "code",
   "execution_count": 30,
   "id": "272fff5f",
   "metadata": {},
   "outputs": [
    {
     "name": "stdout",
     "output_type": "stream",
     "text": [
      "[0 0 4 6 5 2 5 7 2 1 1 1 0 2 5 1 3 1 1 2 2 4 1 4 1 0 2 2 1 1]\n",
      "The SSE is: 1515.0941572736253\n"
     ]
    }
   ],
   "source": [
    "#question 2\n",
    "kmeans = KMeans(init=\"k-means++\",n_clusters=8,n_init=100,max_iter=10000,random_state=10).fit(X)\n",
    "print(kmeans.labels_)\n",
    "SSE=kmeans.inertia_\n",
    "print(\"The SSE is:\",SSE)"
   ]
  },
  {
   "cell_type": "markdown",
   "id": "4d3f6347",
   "metadata": {},
   "source": [
    "If the 'init' can be considered as a parameter, I think the 'init' will impact the result most. By using the init method like k-means++, rather than select the centroid randomly, the SSE can be decresed significantly. While, if you let let init method to be 'random', the k-means will get worse result.\n",
    "\n",
    "What's more, \n",
    "for a) the 'n_init' and 'max_iter' also impact the results the most. Both of them will get better result if their value are increased. \n",
    "\n",
    "b)Increasing the value of them are not necessary to get the better result. Because once the kmeans get the optimal result, the change of parameters' value will not affact the result anymore. Moreover, both of the 'n_init' and 'max_iter' improve the result by increasing the amount of computation, which means it will consider more situation. It may help you find a better result in some case, but it will not always find better result. The change of parameters' value cannot affact the result directly."
   ]
  },
  {
   "cell_type": "markdown",
   "id": "b759bea6",
   "metadata": {},
   "source": [
    "3."
   ]
  },
  {
   "cell_type": "code",
   "execution_count": 32,
   "id": "195b1611",
   "metadata": {},
   "outputs": [
    {
     "name": "stdout",
     "output_type": "stream",
     "text": [
      "{0: ['American Express', 'Boeing', 'Walt Disney', 'JPMorgan Chase'], 4: ['Chevron', 'Pfizer', 'ExxonMobil'], 6: ['Cisco Systems'], 5: ['DuPont', 'Caterpillar', 'Alcoa'], 2: ['Kraft', 'Verizon', 'Procter & Gamble', 'AT&T', 'Merck', 'McDonalds', 'Coca-Cola'], 7: ['Bank of America'], 1: ['Microsoft', 'IBM', 'The Home Depot', 'Intel', 'Wal-Mart', 'General Electric', 'United Technologies', 'Travelers', '3M', 'Johnson & Johnson'], 3: ['Hewlett-Packard']}\n"
     ]
    }
   ],
   "source": [
    "#question 3\n",
    "name=data.index\n",
    "clu=[]\n",
    "i=0\n",
    "lab=kmeans.labels_\n",
    "lab=lab.tolist()\n",
    "dict={}\n",
    "for each in lab:\n",
    "    if each not in dict.keys():\n",
    "        dict[each]=[name[i]]\n",
    "        #print(dict)\n",
    "    else:\n",
    "        temp=dict[each]\n",
    "        temp.append(name[i])\n",
    "        dict[each] = temp\n",
    "    i+=1\n",
    "print(dict)"
   ]
  },
  {
   "cell_type": "markdown",
   "id": "8d04483c",
   "metadata": {},
   "source": [
    "Cluster 1 is cluster of information technology stocks.\n",
    "\n",
    "Cluster 2 is cluster of food stocks.\n",
    "\n",
    "Cluster 5 is cluster of oil stocks.\n",
    "\n",
    "Cluster 7 is cluster of financial stocks."
   ]
  },
  {
   "cell_type": "code",
   "execution_count": null,
   "id": "988a91fc",
   "metadata": {},
   "outputs": [],
   "source": []
  }
 ],
 "metadata": {
  "kernelspec": {
   "display_name": "Python 3 (ipykernel)",
   "language": "python",
   "name": "python3"
  },
  "language_info": {
   "codemirror_mode": {
    "name": "ipython",
    "version": 3
   },
   "file_extension": ".py",
   "mimetype": "text/x-python",
   "name": "python",
   "nbconvert_exporter": "python",
   "pygments_lexer": "ipython3",
   "version": "3.8.12"
  }
 },
 "nbformat": 4,
 "nbformat_minor": 5
}
