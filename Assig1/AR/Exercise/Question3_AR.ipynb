{
 "cells": [
  {
   "cell_type": "markdown",
   "id": "af48425b",
   "metadata": {},
   "source": [
    "Question 3\n",
    "\n",
    "1."
   ]
  },
  {
   "cell_type": "code",
   "execution_count": 5,
   "id": "90707ed8",
   "metadata": {},
   "outputs": [
    {
     "name": "stdout",
     "output_type": "stream",
     "text": [
      "                          antecedents   consequents   support  confidence\n",
      "0                           (Shape:4)   (Density:3)  0.374610    0.900000\n",
      "1               (Density:3, Margin:1)   (BI-RADS:4)  0.263267    0.900356\n",
      "2              (Severity:0, Margin:1)   (BI-RADS:4)  0.299688    0.911392\n",
      "3               (BI-RADS:4, Margin:1)  (Severity:0)  0.299688    0.911392\n",
      "4                (BI-RADS:5, Shape:4)   (Density:3)  0.245578    0.904215\n",
      "5                (BI-RADS:5, Shape:4)  (Severity:1)  0.246618    0.908046\n",
      "6               (Shape:4, Severity:1)   (Density:3)  0.295525    0.901587\n",
      "7   (Severity:0, Density:3, Margin:1)   (BI-RADS:4)  0.238293    0.927126\n",
      "8    (BI-RADS:4, Density:3, Margin:1)  (Severity:0)  0.238293    0.905138\n",
      "9     (BI-RADS:5, Shape:4, Density:3)  (Severity:1)  0.224766    0.915254\n",
      "10   (BI-RADS:5, Shape:4, Severity:1)   (Density:3)  0.224766    0.911392\n"
     ]
    }
   ],
   "source": [
    "#print(\"test\")\n",
    "import pandas as pd\n",
    "import math\n",
    "from mlxtend.preprocessing import TransactionEncoder\n",
    "from mlxtend.frequent_patterns import apriori\n",
    "from mlxtend.frequent_patterns import association_rules\n",
    "data=pd.read_csv(r\"mammographic_masses.csv\",delimiter=\",\",header=0)\n",
    "#print(data)\n",
    "d=data.values.tolist()\n",
    "for each in range(len(d)):\n",
    "    d[each][0]=\"BI-RADS:\"+d[each][0]\n",
    "    d[each][1] = \"Age:\" + d[each][1]\n",
    "    d[each][2] = \"Shape:\" + d[each][2]\n",
    "    d[each][3] = \"Margin:\" + d[each][3]\n",
    "    d[each][4] = \"Density:\" + d[each][4]\n",
    "    d[each][-1]=\"Severity:\"+str(d[each][-1])\n",
    "#print(d)\n",
    "te = TransactionEncoder()\n",
    "te_ary = te.fit(d).transform(d)\n",
    "#print(te.columns_)\n",
    "df = pd.DataFrame(te_ary,columns=te.columns_)\n",
    "#print(df)\n",
    "\n",
    "#computing frequent itemsets and association rules\n",
    "frequent_itemsets = apriori(df, min_support=0.2, use_colnames=True)\n",
    "\n",
    "a=association_rules(frequent_itemsets, metric=\"confidence\", min_threshold=0.9)\n",
    "\n",
    "#visualizing association rules results\n",
    "print(a[[\"antecedents\",\"consequents\",\"support\",\"confidence\"]])"
   ]
  },
  {
   "cell_type": "markdown",
   "id": "2a74d99a",
   "metadata": {},
   "source": [
    "As shown above, there is the result of the question 1, which shows the rules with support at least 0.2 and confidence at least 0.9."
   ]
  },
  {
   "cell_type": "markdown",
   "id": "d3f20ab9",
   "metadata": {},
   "source": [
    "2."
   ]
  },
  {
   "cell_type": "code",
   "execution_count": 6,
   "id": "c34bc2f0",
   "metadata": {},
   "outputs": [
    {
     "name": "stdout",
     "output_type": "stream",
     "text": [
      "frozenset({'Shape:2', 'Margin:1'}) : frozenset({'Severity:0'})\n",
      "frozenset({'Shape:1', 'Density:3', 'Margin:1'}) : frozenset({'Severity:0'})\n"
     ]
    }
   ],
   "source": [
    "dnew=[]\n",
    "for each in range(len(d)):\n",
    "    dnew.append(d[each][1:])\n",
    "#print(dnew)\n",
    "te_new = TransactionEncoder()\n",
    "te_ary_new = te_new.fit(dnew).transform(dnew)\n",
    "#print(te.columns_)\n",
    "df_new = pd.DataFrame(te_ary_new,columns=te_new.columns_)\n",
    "#print(df_new)\n",
    "frequent_itemsets_new = apriori(df_new, min_support=0.1, use_colnames=True)\n",
    "#print(frequent_itemsets_new)\n",
    "a=association_rules(frequent_itemsets_new, metric=\"confidence\", min_threshold=0.9)\n",
    "#print(a[[\"antecedents\",\"consequents\",\"support\",\"confidence\"]])\n",
    "#\"Severity:1\"in a[\"antecedents\"][i] or \"Severity:0\"in a[\"antecedents\"][i]or\n",
    "\n",
    "for i in range(len(a[\"antecedents\"])):\n",
    "    if (\"Severity:1\" in a[\"consequents\"][i] or \"Severity:0\" in a[\"consequents\"][i]):\n",
    "        print(a[\"antecedents\"][i],\":\",a[\"consequents\"][i])"
   ]
  },
  {
   "cell_type": "markdown",
   "id": "7fab790e",
   "metadata": {},
   "source": [
    "As shown above, shape, density and margin of the lesion can help to determine whether a lesion is benign or malign. The people with Shape:'2', Margin:'1' always result in the benign, and  the people with Shape:'1',Density:'3', Margin:'1' are always benign too. "
   ]
  },
  {
   "cell_type": "markdown",
   "id": "e0dd3992",
   "metadata": {},
   "source": [
    "3.\n"
   ]
  },
  {
   "cell_type": "code",
   "execution_count": 11,
   "id": "3146f4d0",
   "metadata": {},
   "outputs": [
    {
     "name": "stdout",
     "output_type": "stream",
     "text": [
      "Antecedents:  frozenset({'BI-RADS:6'}) ,Consequents:  frozenset({'Severity:0'})\n",
      "Antecedents:  frozenset({'BI-RADS:6', 'Density:3'}) ,Consequents:  frozenset({'Severity:0'})\n",
      "Antecedents:  frozenset({'BI-RADS:6'}) ,Consequents:  frozenset({'Severity:0', 'Density:3'})\n",
      "Antecedents:  frozenset({'BI-RADS:6', 'Margin:1'}) ,Consequents:  frozenset({'Severity:0'})\n",
      "Antecedents:  frozenset({'BI-RADS:6'}) ,Consequents:  frozenset({'Severity:0', 'Margin:1'})\n",
      "Antecedents:  frozenset({'BI-RADS:6', 'Density:3', 'Margin:1'}) ,Consequents:  frozenset({'Severity:0'})\n",
      "Antecedents:  frozenset({'BI-RADS:6', 'Density:3'}) ,Consequents:  frozenset({'Severity:0', 'Margin:1'})\n",
      "Antecedents:  frozenset({'BI-RADS:6', 'Margin:1'}) ,Consequents:  frozenset({'Severity:0', 'Density:3'})\n",
      "Antecedents:  frozenset({'BI-RADS:6'}) ,Consequents:  frozenset({'Severity:0', 'Density:3', 'Margin:1'})\n",
      "Antecedents:  frozenset({'BI-RADS:0'}) ,Consequents:  frozenset({'Severity:1'})\n",
      "Antecedents:  frozenset({'BI-RADS:0', 'Density:3'}) ,Consequents:  frozenset({'Severity:1'})\n",
      "Antecedents:  frozenset({'BI-RADS:0'}) ,Consequents:  frozenset({'Density:3', 'Severity:1'})\n",
      "Antecedents:  frozenset({'Shape:4', 'BI-RADS:0'}) ,Consequents:  frozenset({'Severity:1'})\n",
      "Antecedents:  frozenset({'BI-RADS:0'}) ,Consequents:  frozenset({'Shape:4', 'Severity:1'})\n",
      "Antecedents:  frozenset({'Shape:4', 'BI-RADS:0', 'Density:3'}) ,Consequents:  frozenset({'Severity:1'})\n",
      "Antecedents:  frozenset({'Shape:4', 'BI-RADS:0'}) ,Consequents:  frozenset({'Density:3', 'Severity:1'})\n",
      "Antecedents:  frozenset({'BI-RADS:0', 'Density:3'}) ,Consequents:  frozenset({'Shape:4', 'Severity:1'})\n",
      "Antecedents:  frozenset({'BI-RADS:0'}) ,Consequents:  frozenset({'Shape:4', 'Density:3', 'Severity:1'})\n"
     ]
    }
   ],
   "source": [
    "#Question 3\n",
    "special_itemsets = apriori(df, min_support=0.002, use_colnames=True)\n",
    "s=association_rules(special_itemsets, metric=\"confidence\", min_threshold=0)\n",
    "#print(a)\n",
    "for i in range(len(s)):\n",
    "    if (\"BI-RADS:6\" in s[\"antecedents\"][i] and \"Severity:0\" in s[\"consequents\"][i]):\n",
    "        print(\"Antecedents: \",s[\"antecedents\"][i],\",Consequents: \",s[\"consequents\"][i])\n",
    "for i in range(len(s)):\n",
    "    if (\"BI-RADS:0\" in s[\"antecedents\"][i] and \"Severity:1\" in s[\"consequents\"][i]):\n",
    "        print(\"Antecedents: \",s[\"antecedents\"][i],\",Consequents: \",s[\"consequents\"][i])"
   ]
  },
  {
   "cell_type": "markdown",
   "id": "26b553ac",
   "metadata": {},
   "source": [
    "As shown above, there are several rules show that BI-RADS assessment is not accurate. When the BI-RADS is 6(the lesion is highly suggetive of malignancy), the severity is acturally 0, which means that the lesion is benign. And when Antecedents is BI-RADS:0(definitely benign), but the Consequents is Severity:1(malignant). These rules above prove that BI-RADS assessment sometimes can be wrong, and it is not always accurate.\n",
    "\n",
    "To find the case which shows the BI-RADS assessment is not that accurate, I set the min_support and min_confidence as a value close to 0. Thus, I can find the counter example, which shows the BI-RADS assessment has the wrong result.\n",
    "\n",
    "In the code above, I just detect the rules with Antecedents is BI-RADS:6 - Consequents is Severity:0 and Antecedents is BI-RADS:0 - Consequents is Severity:1. There are more rules with BI-RADS showing the lesion is very likely to be benign, but the Severity is 1(malignant). \n"
   ]
  },
  {
   "cell_type": "markdown",
   "id": "c04e39f3",
   "metadata": {},
   "source": [
    "4.\n"
   ]
  },
  {
   "cell_type": "code",
   "execution_count": 13,
   "id": "cf28edea",
   "metadata": {},
   "outputs": [
    {
     "name": "stdout",
     "output_type": "stream",
     "text": [
      "frozenset({'Age:35'}) : frozenset({'Severity:0'}) ,Support: 0.012486992715920915 ,Confidence: 0.923076923076923\n"
     ]
    }
   ],
   "source": [
    "#Question 4\n",
    "frequent_itemsets = apriori(df, min_support=0.001, use_colnames=True)\n",
    "a=association_rules(frequent_itemsets, metric=\"confidence\", min_threshold=0)\n",
    "for i in range(len(a)):\n",
    "    if (a[\"antecedents\"][i]==frozenset({'Age:35'}) and a[\"consequents\"][i])==frozenset({'Severity:0'}):\n",
    "        print(a[\"antecedents\"][i],\":\",a[\"consequents\"][i],\",Support:\",a[\"support\"][i],\",Confidence:\",a[\"confidence\"][i])\n"
   ]
  },
  {
   "cell_type": "markdown",
   "id": "9070cfe0",
   "metadata": {},
   "source": [
    "For the rule: Age=35 ⇒ Severity=0, the confidence is 0.923076923076923, and the support is 0.012486992715920915. \n",
    "\n",
    "With the confidence is 0.923076923076923, which is higher than 0.9, I think this rule tell us something valuable. It show that people with age:35, their lesion is more likely to be benign."
   ]
  },
  {
   "cell_type": "markdown",
   "id": "5454f670",
   "metadata": {},
   "source": [
    "5."
   ]
  },
  {
   "cell_type": "code",
   "execution_count": 22,
   "id": "71fd2e03",
   "metadata": {},
   "outputs": [
    {
     "name": "stdout",
     "output_type": "stream",
     "text": [
      "                                    antecedents   consequents   support  \\\n",
      "0                                    (Margin:5)   (Density:3)  0.131113   \n",
      "1                                     (Shape:4)   (Density:3)  0.374610   \n",
      "2                           (Age<=55, Margin:1)  (Severity:0)  0.229969   \n",
      "3                            (Shape:1, Age<=55)  (Severity:0)  0.140479   \n",
      "4                            (Shape:2, Age<=55)  (Severity:0)  0.113424   \n",
      "..                                          ...           ...       ...   \n",
      "63      (BI-RADS:5, Shape:4, Density:3, Age>55)  (Severity:1)  0.163371   \n",
      "64     (BI-RADS:5, Severity:1, Shape:4, Age>55)   (Density:3)  0.163371   \n",
      "65  (Severity:0, BI-RADS:4, Density:3, Shape:1)    (Margin:1)  0.133195   \n",
      "66   (Severity:0, Margin:1, Density:3, Shape:1)   (BI-RADS:4)  0.133195   \n",
      "67    (Shape:1, BI-RADS:4, Density:3, Margin:1)  (Severity:0)  0.133195   \n",
      "\n",
      "    confidence  \n",
      "0     0.926471  \n",
      "1     0.900000  \n",
      "2     0.917012  \n",
      "3     0.924658  \n",
      "4     0.900826  \n",
      "..         ...  \n",
      "63    0.945783  \n",
      "64    0.928994  \n",
      "65    0.914286  \n",
      "66    0.927536  \n",
      "67    0.920863  \n",
      "\n",
      "[68 rows x 4 columns]\n"
     ]
    }
   ],
   "source": [
    "#Question 5\n",
    "data=pd.read_csv(r\"mammographic_masses.csv\",delimiter=\",\",header=0)\n",
    "#print(data)\n",
    "#index_special=data[data['Age'].isin([\"?\"])].index.tolist()\n",
    "#print(index_special)\n",
    "#data_new=data.drop(index_special)#drop the rows with Age is ?\n",
    "#give up the method above\n",
    "d_num=data.values.tolist()\n",
    "sum_age=0\n",
    "for each in range(len(d_num)):\n",
    "    d_num[each][0]=\"BI-RADS:\"+d_num[each][0]\n",
    "    if d_num[each][1]!=\"?\":\n",
    "        d_num[each][1] = int(d_num[each][1])\n",
    "        sum_age+=d_num[each][1]\n",
    "    d_num[each][2] = \"Shape:\" + d_num[each][2]\n",
    "    d_num[each][3] = \"Margin:\" + d_num[each][3]\n",
    "    d_num[each][4] = \"Density:\" + d_num[each][4]\n",
    "    d_num[each][-1]=\"Severity:\"+str(d_num[each][-1])\n",
    "mean=sum_age/len(d_num)\n",
    "mean=int(mean)\n",
    "#print(mean)\n",
    "for each in range(len(d_num)):\n",
    "    if d_num[each][1]==\"?\":\n",
    "        d_num[each][1]=\"Age<=\"+str(mean)\n",
    "    elif d_num[each][1]>mean:\n",
    "        d_num[each][1] = \"Age>\"+str(mean)\n",
    "        #print(d_num[each][1])\n",
    "    else:\n",
    "        d_num[each][1] = \"Age<=\" + str(mean)\n",
    "\n",
    "te = TransactionEncoder()\n",
    "te_ary = te.fit(d_num).transform(d_num)\n",
    "#print(te.columns_)\n",
    "df = pd.DataFrame(te_ary,columns=te.columns_)\n",
    "frequent_itemsets = apriori(df, min_support=0.1, use_colnames=True)\n",
    "\n",
    "a=association_rules(frequent_itemsets, metric=\"confidence\", min_threshold=0.9)\n",
    "#visualizing association rules results\n",
    "print(a[[\"antecedents\",\"consequents\",\"support\",\"confidence\"]])"
   ]
  },
  {
   "cell_type": "markdown",
   "id": "cf9ade85",
   "metadata": {},
   "source": [
    "antecedents: (Age<=55, Margin:1) \n",
    "\n",
    "consequents: (Severity:0)\n",
    "\n",
    "support: 0.229969 \n",
    "\n",
    "confidence: 0.917012\n",
    "\n",
    "(Age<=55, Margin:1)→(Severity:0)\n",
    "\n",
    "The answer is shown above."
   ]
  },
  {
   "cell_type": "code",
   "execution_count": null,
   "id": "bbaaed5a",
   "metadata": {},
   "outputs": [],
   "source": []
  }
 ],
 "metadata": {
  "kernelspec": {
   "display_name": "Python 3 (ipykernel)",
   "language": "python",
   "name": "python3"
  },
  "language_info": {
   "codemirror_mode": {
    "name": "ipython",
    "version": 3
   },
   "file_extension": ".py",
   "mimetype": "text/x-python",
   "name": "python",
   "nbconvert_exporter": "python",
   "pygments_lexer": "ipython3",
   "version": "3.8.12"
  }
 },
 "nbformat": 4,
 "nbformat_minor": 5
}
