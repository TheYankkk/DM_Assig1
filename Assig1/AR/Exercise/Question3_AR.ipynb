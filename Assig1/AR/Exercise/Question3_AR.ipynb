{
 "cells": [
  {
   "cell_type": "markdown",
   "id": "af48425b",
   "metadata": {},
   "source": [
    "Question 3\n",
    "1."
   ]
  },
  {
   "cell_type": "code",
   "execution_count": 1,
   "id": "90707ed8",
   "metadata": {},
   "outputs": [
    {
     "name": "stdout",
     "output_type": "stream",
     "text": [
      "                          antecedents   consequents   support  confidence\n",
      "0                           (Shape:4)   (Density:3)  0.374610    0.900000\n",
      "1               (Density:3, Margin:1)   (BI-RADS:4)  0.263267    0.900356\n",
      "2              (Severity:0, Margin:1)   (BI-RADS:4)  0.299688    0.911392\n",
      "3               (BI-RADS:4, Margin:1)  (Severity:0)  0.299688    0.911392\n",
      "4                (BI-RADS:5, Shape:4)   (Density:3)  0.245578    0.904215\n",
      "5                (BI-RADS:5, Shape:4)  (Severity:1)  0.246618    0.908046\n",
      "6               (Shape:4, Severity:1)   (Density:3)  0.295525    0.901587\n",
      "7   (Severity:0, Density:3, Margin:1)   (BI-RADS:4)  0.238293    0.927126\n",
      "8    (BI-RADS:4, Density:3, Margin:1)  (Severity:0)  0.238293    0.905138\n",
      "9     (BI-RADS:5, Shape:4, Density:3)  (Severity:1)  0.224766    0.915254\n",
      "10   (BI-RADS:5, Shape:4, Severity:1)   (Density:3)  0.224766    0.911392\n"
     ]
    }
   ],
   "source": [
    "#print(\"test\")\n",
    "import pandas as pd\n",
    "import math\n",
    "from mlxtend.preprocessing import TransactionEncoder\n",
    "from mlxtend.frequent_patterns import apriori\n",
    "from mlxtend.frequent_patterns import association_rules\n",
    "data=pd.read_csv(r\"mammographic_masses.csv\",delimiter=\",\",header=0)\n",
    "#print(data)\n",
    "d=data.values.tolist()\n",
    "for each in range(len(d)):\n",
    "    d[each][0]=\"BI-RADS:\"+d[each][0]\n",
    "    d[each][1] = \"Age:\" + d[each][1]\n",
    "    d[each][2] = \"Shape:\" + d[each][2]\n",
    "    d[each][3] = \"Margin:\" + d[each][3]\n",
    "    d[each][4] = \"Density:\" + d[each][4]\n",
    "    d[each][-1]=\"Severity:\"+str(d[each][-1])\n",
    "#print(d)\n",
    "te = TransactionEncoder()\n",
    "te_ary = te.fit(d).transform(d)\n",
    "#print(te.columns_)\n",
    "df = pd.DataFrame(te_ary,columns=te.columns_)\n",
    "#print(df)\n",
    "\n",
    "#computing frequent itemsets and association rules\n",
    "frequent_itemsets = apriori(df, min_support=0.2, use_colnames=True)\n",
    "\n",
    "a=association_rules(frequent_itemsets, metric=\"confidence\", min_threshold=0.9)\n",
    "\n",
    "#visualizing association rules results\n",
    "print(a[[\"antecedents\",\"consequents\",\"support\",\"confidence\"]])"
   ]
  },
  {
   "cell_type": "markdown",
   "id": "2a74d99a",
   "metadata": {},
   "source": [
    "As shown above, there is the result of the question 1, which shows the rules with support at least 0.2 and confidence at least 0.9."
   ]
  },
  {
   "cell_type": "markdown",
   "id": "d3f20ab9",
   "metadata": {},
   "source": [
    "2."
   ]
  },
  {
   "cell_type": "code",
   "execution_count": null,
   "id": "c34bc2f0",
   "metadata": {},
   "outputs": [],
   "source": []
  }
 ],
 "metadata": {
  "kernelspec": {
   "display_name": "Python 3 (ipykernel)",
   "language": "python",
   "name": "python3"
  },
  "language_info": {
   "codemirror_mode": {
    "name": "ipython",
    "version": 3
   },
   "file_extension": ".py",
   "mimetype": "text/x-python",
   "name": "python",
   "nbconvert_exporter": "python",
   "pygments_lexer": "ipython3",
   "version": "3.8.12"
  }
 },
 "nbformat": 4,
 "nbformat_minor": 5
}
